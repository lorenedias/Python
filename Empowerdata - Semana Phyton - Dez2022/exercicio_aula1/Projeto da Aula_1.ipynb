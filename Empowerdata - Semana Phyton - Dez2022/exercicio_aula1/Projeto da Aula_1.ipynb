{
 "cells": [
  {
   "cell_type": "markdown",
   "id": "864dd420",
   "metadata": {},
   "source": [
    "# Projeto da Aula 1\n",
    "\n",
    "## Emitir orçamentos para sua empresa \n",
    "### Objetivo: Gerar automaticamente PDFs com Phyton\n"
   ]
  },
  {
   "cell_type": "code",
   "execution_count": 1,
   "id": "423df0b8",
   "metadata": {},
   "outputs": [],
   "source": [
    "#!pip install fpdf\n",
    "from fpdf import FPDF"
   ]
  },
  {
   "cell_type": "code",
   "execution_count": 2,
   "id": "a3eb91aa",
   "metadata": {},
   "outputs": [
    {
     "name": "stdout",
     "output_type": "stream",
     "text": [
      "Digite a descição do projeto: Desenvolvimento Python\n",
      "Digite o total de horas estimadas: 60\n",
      "Digite o valor da hora trabalhada: 120\n",
      "Digite o prazo estimado: 2 meses\n"
     ]
    }
   ],
   "source": [
    "# definindo as variáveis\n",
    "projeto = input(\"Digite a descição do projeto: \")\n",
    "horas_estimadas = input(\"Digite o total de horas estimadas: \")\n",
    "valor_hora = input(\"Digite o valor da hora trabalhada: \")\n",
    "prazo_estimado = input(\"Digite o prazo estimado: \")\n",
    "\n",
    "valor_total_estimado = int(horas_estimadas) * int(valor_hora)"
   ]
  },
  {
   "cell_type": "code",
   "execution_count": 3,
   "id": "6b3c73bd",
   "metadata": {},
   "outputs": [],
   "source": [
    "# criando um arquivo\n",
    "pdf = FPDF()\n",
    "pdf.add_page()\n",
    "pdf.set_font(\"Arial\")"
   ]
  },
  {
   "cell_type": "code",
   "execution_count": 4,
   "id": "aef00e0a",
   "metadata": {},
   "outputs": [],
   "source": [
    "# utilizando um template (disponibilizado)\n",
    "pdf.image(\"template.png\", x=0, y=0)"
   ]
  },
  {
   "cell_type": "code",
   "execution_count": 5,
   "id": "156ed8b3",
   "metadata": {},
   "outputs": [],
   "source": [
    "# inserindo os dados do projeto\n",
    "pdf.text(115, 145, projeto)\n",
    "pdf.text(115, 160, horas_estimadas)\n",
    "pdf.text(115, 175, valor_hora)\n",
    "pdf.text(115, 190, prazo_estimado)\n",
    "pdf.text(115, 205, str(valor_total_estimado)) ## para gerar o texto no pdf o dados deve ser do tipo string"
   ]
  },
  {
   "cell_type": "code",
   "execution_count": 6,
   "id": "90cb9134",
   "metadata": {},
   "outputs": [
    {
     "name": "stdout",
     "output_type": "stream",
     "text": [
      "Orçamento gerado com sucesso\n"
     ]
    }
   ],
   "source": [
    "# salvando o arquivo\n",
    "pdf.output(\"orçamento.pdf\")\n",
    "print(\"Orçamento gerado com sucesso\")"
   ]
  }
 ],
 "metadata": {
  "kernelspec": {
   "display_name": "Python 3 (ipykernel)",
   "language": "python",
   "name": "python3"
  },
  "language_info": {
   "codemirror_mode": {
    "name": "ipython",
    "version": 3
   },
   "file_extension": ".py",
   "mimetype": "text/x-python",
   "name": "python",
   "nbconvert_exporter": "python",
   "pygments_lexer": "ipython3",
   "version": "3.9.12"
  }
 },
 "nbformat": 4,
 "nbformat_minor": 5
}
